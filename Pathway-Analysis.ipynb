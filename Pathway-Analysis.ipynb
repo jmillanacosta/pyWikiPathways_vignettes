{
 "cells": [
  {
   "cell_type": "markdown",
   "metadata": {},
   "source": [
    "---\n",
    "title: \"Pathway Analysis\"\n",
    "author: \"Javier Millan Acosta\"\n",
    "date: 2024-11-28\n",
    "---\n",
    "\n",
    "## 1. Introduction\n",
    "\n",
    " > Note: adapted for Python from [Pathway-Analysis.Rmd](https://github.com/wikipathways/rWikiPathways/blob/devel/vignettes/Pathway-Analysis.Rmd).\n",
    "\n",
    "This notebook will cover a wide range of analytical and visualization techniques involved in a typical pathway analysis. The **Overview** section will go into more detail on the particulars, but note that this vignette is designed to be modular and carefully considered. Please do not simply run the entire script and expect to get anything meaningful from the final output. This is an instructional device, ideal for guided workshops.\n",
    "\n",
    "### 1.1. Installation\n",
    "\n",
    "#### Packages\n",
    "The following packages can be installed with the `pip` package installer."
   ]
  },
  {
   "cell_type": "code",
   "execution_count": null,
   "metadata": {},
   "outputs": [],
   "source": [
    "%pip install -r requirements.txt"
   ]
  },
  {
   "cell_type": "code",
   "execution_count": 2,
   "metadata": {},
   "outputs": [],
   "source": [
    "import py4cytoscape as p4c\n",
    "import pandas as pd\n",
    "from biomart import BiomartServer\n",
    "import pywikipathways as pwpw\n",
    "import numpy as np\n",
    "import gseapy as gp\n",
    "import matplotlib.pyplot as plt\n",
    "import json\n",
    "import requests\n",
    "from io import StringIO\n",
    "import os"
   ]
  },
  {
   "cell_type": "markdown",
   "metadata": {},
   "source": [
    "### 1.2. Cytoscape installation and setup\n",
    "\n",
    "The `py4cytoscape` package is used to connect with **Cytoscape**. So you will also need to install and launch Cytoscape.\n",
    "\n",
    "* Download the latest Cytoscape from https://cytoscape.org/download.html \n",
    "* Complete installation wizard\n",
    "* Launch Cytoscape"
   ]
  },
  {
   "cell_type": "code",
   "execution_count": 3,
   "metadata": {},
   "outputs": [
    {
     "name": "stdout",
     "output_type": "stream",
     "text": [
      "You are connected to Cytoscape!\n"
     ]
    },
    {
     "data": {
      "text/plain": [
       "'You are connected to Cytoscape!'"
      ]
     },
     "execution_count": 3,
     "metadata": {},
     "output_type": "execute_result"
    }
   ],
   "source": [
    "p4c.cytoscape_ping()"
   ]
  },
  {
   "cell_type": "markdown",
   "metadata": {},
   "source": [
    "For this vignette, you'll also need a couple *apps* for Cytoscape. With Cytoscape running, you can install each of these from the Cytoscape App Store with a single click:\n",
    "\n",
    "* http://apps.cytoscape.org/apps/wikipathways\n",
    "* http://apps.cytoscape.org/apps/cytargetlinker \n",
    "\n",
    "If you are running Cytoscape 3.7.0 or above, you can simply run these commands:"
   ]
  },
  {
   "cell_type": "code",
   "execution_count": null,
   "metadata": {},
   "outputs": [],
   "source": [
    "p4c.install_app(\"CyTargetLinker\")\n",
    "p4c.install_app(\"WikiPathways\")\n",
    "p4c.install_app(\"stringApp\")\n",
    "p4c.install_app(\"enrichmentMap\")"
   ]
  },
  {
   "cell_type": "markdown",
   "metadata": {},
   "source": [
    "## 2. Overview\n",
    "\n",
    "In this vignette, we will be performing functional enrichment analysis on a differential gene expression dataset. The dataset compares the expression of transcripts in lung cancer biopses versus normal tissue. Differential expression analysis has already been performed, generating log2foldchange and P-values for each gene. The enrichment analysis will be performed against Gene Ontology, as an introduction to the most common type of enrichment, commonly referred to as *GO Analysis*. This will serve as the foundation for more advanced enrichment analysis against a pathway database, which is called *Pathway Analysis*.\n",
    "\n",
    "Working with pathways opens up unique analysis and visualization options. We will query WikiPathways for relevant content and import pathway models into Cytoscape. In Cytoscape, we will perform data overlays, add drug interactions and generate high-quality images for publication.\n",
    "\n",
    "### 2.2. Dataset\n",
    "\n",
    "The format of this lung cancer dataset should look familiar to anyone who has worked with differential gene expression results. It contains columns of gene identifiers (Ensembl IDs), gene symbols, log2FC values, P-Values and adjusted P-Values."
   ]
  },
  {
   "cell_type": "code",
   "execution_count": 5,
   "metadata": {},
   "outputs": [
    {
     "data": {
      "text/html": [
       "<div>\n",
       "<style scoped>\n",
       "    .dataframe tbody tr th:only-of-type {\n",
       "        vertical-align: middle;\n",
       "    }\n",
       "\n",
       "    .dataframe tbody tr th {\n",
       "        vertical-align: top;\n",
       "    }\n",
       "\n",
       "    .dataframe thead th {\n",
       "        text-align: right;\n",
       "    }\n",
       "</style>\n",
       "<table border=\"1\" class=\"dataframe\">\n",
       "  <thead>\n",
       "    <tr style=\"text-align: right;\">\n",
       "      <th></th>\n",
       "      <th>GeneID</th>\n",
       "      <th>GeneName</th>\n",
       "      <th>log2FC</th>\n",
       "      <th>P.Value</th>\n",
       "      <th>adj.P.Value</th>\n",
       "    </tr>\n",
       "  </thead>\n",
       "  <tbody>\n",
       "    <tr>\n",
       "      <th>8823</th>\n",
       "      <td>ENSG00000146521</td>\n",
       "      <td>LINC01558</td>\n",
       "      <td>0.036464</td>\n",
       "      <td>0.962679</td>\n",
       "      <td>1.000000</td>\n",
       "    </tr>\n",
       "    <tr>\n",
       "      <th>26445</th>\n",
       "      <td>ENSG00000233477</td>\n",
       "      <td>PPIAP38</td>\n",
       "      <td>-0.661354</td>\n",
       "      <td>0.835649</td>\n",
       "      <td>1.000000</td>\n",
       "    </tr>\n",
       "    <tr>\n",
       "      <th>33145</th>\n",
       "      <td>ENSG00000258984</td>\n",
       "      <td>UBE2F-SCLY</td>\n",
       "      <td>1.362593</td>\n",
       "      <td>0.190051</td>\n",
       "      <td>0.463952</td>\n",
       "    </tr>\n",
       "  </tbody>\n",
       "</table>\n",
       "</div>"
      ],
      "text/plain": [
       "                GeneID    GeneName    log2FC   P.Value  adj.P.Value\n",
       "8823   ENSG00000146521   LINC01558  0.036464  0.962679     1.000000\n",
       "26445  ENSG00000233477     PPIAP38 -0.661354  0.835649     1.000000\n",
       "33145  ENSG00000258984  UBE2F-SCLY  1.362593  0.190051     0.463952"
      ]
     },
     "execution_count": 5,
     "metadata": {},
     "output_type": "execute_result"
    }
   ],
   "source": [
    "lung_expr = pd.read_excel(os.path.join(\"extdata\", \"lung-cancer-data.xlsx\"))\n",
    "lung_expr = lung_expr[\n",
    "    lung_expr[\"GeneName\"].apply(lambda x: isinstance(x, str))\n",
    "]  # Need to clean datetime types added by Excel\n",
    "lung_expr.sample(3)"
   ]
  },
  {
   "cell_type": "markdown",
   "metadata": {},
   "source": [
    "### 2.3. Up- and downregulated genes\n",
    "\n",
    "Now let's prepare up- and down-regulated gene lists using some conventional criteria."
   ]
  },
  {
   "cell_type": "code",
   "execution_count": 6,
   "metadata": {},
   "outputs": [],
   "source": [
    "P_CUTOFF = 0.05"
   ]
  },
  {
   "cell_type": "code",
   "execution_count": 7,
   "metadata": {},
   "outputs": [],
   "source": [
    "lung_expr[\"de\"] = np.where(\n",
    "    (lung_expr[\"log2FC\"] > 1) & (lung_expr[\"adj.P.Value\"] < P_CUTOFF),\n",
    "    \"upregulated\",\n",
    "    np.where(\n",
    "    (lung_expr[\"log2FC\"] < -1) & (lung_expr[\"adj.P.Value\"] < P_CUTOFF), \n",
    "    \"downregulated\", \n",
    "    'bkgd'),)\n"
   ]
  },
  {
   "cell_type": "code",
   "execution_count": 8,
   "metadata": {},
   "outputs": [
    {
     "data": {
      "text/html": [
       "<div>\n",
       "<style scoped>\n",
       "    .dataframe tbody tr th:only-of-type {\n",
       "        vertical-align: middle;\n",
       "    }\n",
       "\n",
       "    .dataframe tbody tr th {\n",
       "        vertical-align: top;\n",
       "    }\n",
       "\n",
       "    .dataframe thead th {\n",
       "        text-align: right;\n",
       "    }\n",
       "</style>\n",
       "<table border=\"1\" class=\"dataframe\">\n",
       "  <thead>\n",
       "    <tr style=\"text-align: right;\">\n",
       "      <th></th>\n",
       "      <th>GeneID</th>\n",
       "      <th>GeneName</th>\n",
       "      <th>log2FC</th>\n",
       "      <th>P.Value</th>\n",
       "      <th>adj.P.Value</th>\n",
       "      <th>de</th>\n",
       "    </tr>\n",
       "  </thead>\n",
       "  <tbody>\n",
       "    <tr>\n",
       "      <th>count</th>\n",
       "      <td>36814</td>\n",
       "      <td>36814</td>\n",
       "      <td>36814.000000</td>\n",
       "      <td>3.681400e+04</td>\n",
       "      <td>36814.000000</td>\n",
       "      <td>36814</td>\n",
       "    </tr>\n",
       "    <tr>\n",
       "      <th>unique</th>\n",
       "      <td>36786</td>\n",
       "      <td>36766</td>\n",
       "      <td>NaN</td>\n",
       "      <td>NaN</td>\n",
       "      <td>NaN</td>\n",
       "      <td>3</td>\n",
       "    </tr>\n",
       "    <tr>\n",
       "      <th>top</th>\n",
       "      <td>ENSG00000277739</td>\n",
       "      <td>RNA5-8S4</td>\n",
       "      <td>NaN</td>\n",
       "      <td>NaN</td>\n",
       "      <td>NaN</td>\n",
       "      <td>bkgd</td>\n",
       "    </tr>\n",
       "    <tr>\n",
       "      <th>freq</th>\n",
       "      <td>6</td>\n",
       "      <td>4</td>\n",
       "      <td>NaN</td>\n",
       "      <td>NaN</td>\n",
       "      <td>NaN</td>\n",
       "      <td>35791</td>\n",
       "    </tr>\n",
       "    <tr>\n",
       "      <th>mean</th>\n",
       "      <td>NaN</td>\n",
       "      <td>NaN</td>\n",
       "      <td>0.738960</td>\n",
       "      <td>3.990082e-01</td>\n",
       "      <td>0.584830</td>\n",
       "      <td>NaN</td>\n",
       "    </tr>\n",
       "    <tr>\n",
       "      <th>std</th>\n",
       "      <td>NaN</td>\n",
       "      <td>NaN</td>\n",
       "      <td>1.777559</td>\n",
       "      <td>3.646529e-01</td>\n",
       "      <td>0.339227</td>\n",
       "      <td>NaN</td>\n",
       "    </tr>\n",
       "    <tr>\n",
       "      <th>min</th>\n",
       "      <td>NaN</td>\n",
       "      <td>NaN</td>\n",
       "      <td>-8.742461</td>\n",
       "      <td>3.580000e-08</td>\n",
       "      <td>0.000853</td>\n",
       "      <td>NaN</td>\n",
       "    </tr>\n",
       "    <tr>\n",
       "      <th>25%</th>\n",
       "      <td>NaN</td>\n",
       "      <td>NaN</td>\n",
       "      <td>-0.139523</td>\n",
       "      <td>6.126635e-02</td>\n",
       "      <td>0.262821</td>\n",
       "      <td>NaN</td>\n",
       "    </tr>\n",
       "    <tr>\n",
       "      <th>50%</th>\n",
       "      <td>NaN</td>\n",
       "      <td>NaN</td>\n",
       "      <td>0.268689</td>\n",
       "      <td>2.912378e-01</td>\n",
       "      <td>0.560967</td>\n",
       "      <td>NaN</td>\n",
       "    </tr>\n",
       "    <tr>\n",
       "      <th>75%</th>\n",
       "      <td>NaN</td>\n",
       "      <td>NaN</td>\n",
       "      <td>1.479487</td>\n",
       "      <td>7.396475e-01</td>\n",
       "      <td>1.000000</td>\n",
       "      <td>NaN</td>\n",
       "    </tr>\n",
       "    <tr>\n",
       "      <th>max</th>\n",
       "      <td>NaN</td>\n",
       "      <td>NaN</td>\n",
       "      <td>13.717148</td>\n",
       "      <td>1.000000e+00</td>\n",
       "      <td>1.000000</td>\n",
       "      <td>NaN</td>\n",
       "    </tr>\n",
       "  </tbody>\n",
       "</table>\n",
       "</div>"
      ],
      "text/plain": [
       "                 GeneID  GeneName        log2FC       P.Value   adj.P.Value  \\\n",
       "count             36814     36814  36814.000000  3.681400e+04  36814.000000   \n",
       "unique            36786     36766           NaN           NaN           NaN   \n",
       "top     ENSG00000277739  RNA5-8S4           NaN           NaN           NaN   \n",
       "freq                  6         4           NaN           NaN           NaN   \n",
       "mean                NaN       NaN      0.738960  3.990082e-01      0.584830   \n",
       "std                 NaN       NaN      1.777559  3.646529e-01      0.339227   \n",
       "min                 NaN       NaN     -8.742461  3.580000e-08      0.000853   \n",
       "25%                 NaN       NaN     -0.139523  6.126635e-02      0.262821   \n",
       "50%                 NaN       NaN      0.268689  2.912378e-01      0.560967   \n",
       "75%                 NaN       NaN      1.479487  7.396475e-01      1.000000   \n",
       "max                 NaN       NaN     13.717148  1.000000e+00      1.000000   \n",
       "\n",
       "           de  \n",
       "count   36814  \n",
       "unique      3  \n",
       "top      bkgd  \n",
       "freq    35791  \n",
       "mean      NaN  \n",
       "std       NaN  \n",
       "min       NaN  \n",
       "25%       NaN  \n",
       "50%       NaN  \n",
       "75%       NaN  \n",
       "max       NaN  "
      ]
     },
     "execution_count": 8,
     "metadata": {},
     "output_type": "execute_result"
    }
   ],
   "source": [
    "lung_expr.describe(include=\"all\")"
   ]
  },
  {
   "cell_type": "code",
   "execution_count": 9,
   "metadata": {},
   "outputs": [
    {
     "data": {
      "text/plain": [
       "<Axes: >"
      ]
     },
     "execution_count": 9,
     "metadata": {},
     "output_type": "execute_result"
    },
    {
     "data": {
      "image/png": "[encoded data removed]",
      "text/plain": [
       "<Figure size 432x288 with 1 Axes>"
      ]
     },
     "metadata": {
      "needs_background": "light"
     },
     "output_type": "display_data"
    }
   ],
   "source": [
    "lung_expr.de.hist()"
   ]
  },
  {
   "cell_type": "markdown",
   "metadata": {},
   "source": [
    "### 2.4. Mapping gene identifiers\n",
    "\n",
    "We'll map our Ensembl identifiers to Entrez, as this is the admitted input for the `gseapy` enrichment functions we'll be using later on.\n",
    "There are many tools one can use to map identifiers between databases. Note that these conversions may not always cover the whole dataset due to identifier deprecation or one-to-many mappings.\n",
    "\n",
    "The example below uses [`BioMart`](http://www.ensembl.org/biomart):"
   ]
  },
  {
   "cell_type": "code",
   "execution_count": 10,
   "metadata": {},
   "outputs": [
    {
     "name": "stdout",
     "output_type": "stream",
     "text": [
      "23136  ids mapped\n"
     ]
    },
    {
     "data": {
      "text/html": [
       "<div>\n",
       "<style scoped>\n",
       "    .dataframe tbody tr th:only-of-type {\n",
       "        vertical-align: middle;\n",
       "    }\n",
       "\n",
       "    .dataframe tbody tr th {\n",
       "        vertical-align: top;\n",
       "    }\n",
       "\n",
       "    .dataframe thead th {\n",
       "        text-align: right;\n",
       "    }\n",
       "</style>\n",
       "<table border=\"1\" class=\"dataframe\">\n",
       "  <thead>\n",
       "    <tr style=\"text-align: right;\">\n",
       "      <th></th>\n",
       "      <th>GeneID</th>\n",
       "      <th>GeneName</th>\n",
       "      <th>log2FC</th>\n",
       "      <th>P.Value</th>\n",
       "      <th>adj.P.Value</th>\n",
       "      <th>de</th>\n",
       "      <th>entrezID</th>\n",
       "    </tr>\n",
       "  </thead>\n",
       "  <tbody>\n",
       "    <tr>\n",
       "      <th>3656</th>\n",
       "      <td>ENSG00000109436</td>\n",
       "      <td>TBC1D9</td>\n",
       "      <td>-0.754440</td>\n",
       "      <td>0.032011</td>\n",
       "      <td>0.204393</td>\n",
       "      <td>bkgd</td>\n",
       "      <td>23158</td>\n",
       "    </tr>\n",
       "    <tr>\n",
       "      <th>1797</th>\n",
       "      <td>ENSG00000088930</td>\n",
       "      <td>XRN2</td>\n",
       "      <td>-0.116049</td>\n",
       "      <td>0.714354</td>\n",
       "      <td>1.000000</td>\n",
       "      <td>bkgd</td>\n",
       "      <td>22803</td>\n",
       "    </tr>\n",
       "    <tr>\n",
       "      <th>4101</th>\n",
       "      <td>ENSG00000112812</td>\n",
       "      <td>PRSS16</td>\n",
       "      <td>-0.013214</td>\n",
       "      <td>0.979128</td>\n",
       "      <td>1.000000</td>\n",
       "      <td>bkgd</td>\n",
       "      <td>10279</td>\n",
       "    </tr>\n",
       "    <tr>\n",
       "      <th>15920</th>\n",
       "      <td>ENSG00000185862</td>\n",
       "      <td>EVI2B</td>\n",
       "      <td>-1.733936</td>\n",
       "      <td>0.000473</td>\n",
       "      <td>0.036285</td>\n",
       "      <td>downregulated</td>\n",
       "      <td>2124</td>\n",
       "    </tr>\n",
       "    <tr>\n",
       "      <th>34116</th>\n",
       "      <td>ENSG00000264204</td>\n",
       "      <td>AGAP7P</td>\n",
       "      <td>1.888521</td>\n",
       "      <td>0.085894</td>\n",
       "      <td>0.304664</td>\n",
       "      <td>bkgd</td>\n",
       "      <td>653268</td>\n",
       "    </tr>\n",
       "  </tbody>\n",
       "</table>\n",
       "</div>"
      ],
      "text/plain": [
       "                GeneID GeneName    log2FC   P.Value  adj.P.Value  \\\n",
       "3656   ENSG00000109436   TBC1D9 -0.754440  0.032011     0.204393   \n",
       "1797   ENSG00000088930     XRN2 -0.116049  0.714354     1.000000   \n",
       "4101   ENSG00000112812   PRSS16 -0.013214  0.979128     1.000000   \n",
       "15920  ENSG00000185862    EVI2B -1.733936  0.000473     0.036285   \n",
       "34116  ENSG00000264204   AGAP7P  1.888521  0.085894     0.304664   \n",
       "\n",
       "                  de entrezID  \n",
       "3656            bkgd    23158  \n",
       "1797            bkgd    22803  \n",
       "4101            bkgd    10279  \n",
       "15920  downregulated     2124  \n",
       "34116           bkgd   653268  "
      ]
     },
     "execution_count": 10,
     "metadata": {},
     "output_type": "execute_result"
    }
   ],
   "source": [
    "def add_entrez_column_biomart(df, max_chunk_size=400):\n",
    "    ensembl_ids = list(set(df['GeneID'].tolist()))\n",
    "    entrez_dict = {}\n",
    "\n",
    "    # Connect to the BioMart server\n",
    "    server = BiomartServer(\"http://www.ensembl.org/biomart\")\n",
    "    dataset = server.datasets[\"hsapiens_gene_ensembl\"]\n",
    "\n",
    "    # Split ensembl_ids into chunks if necessary and fetch results\n",
    "    for i in range(0, len(ensembl_ids), max_chunk_size):\n",
    "        chunk = ensembl_ids[i:i + max_chunk_size]\n",
    "        response = dataset.search(\n",
    "            {\n",
    "                \"filters\": {\"ensembl_gene_id\": chunk},\n",
    "                \"attributes\": [\"ensembl_gene_id\", \"entrezgene_id\"],\n",
    "            }\n",
    "        )\n",
    "        if response.status_code == 200:\n",
    "            print(f\"{i // max_chunk_size + 1} chunks sent\", end=\"\\r\", flush=True)\n",
    "            # Parse results\n",
    "            for line in response.iter_lines(decode_unicode=True):\n",
    "                ensembl, entrez = line.split(\"\\t\")\n",
    "                entrez_dict[ensembl] = entrez if entrez else None\n",
    "        else:\n",
    "            print(\n",
    "                response.status_code,\n",
    "                \" - request unsuccessful for chunk starting at index \",\n",
    "                i\n",
    "            )\n",
    "\n",
    "    # Map the entrez IDs to the dataframe\n",
    "    df = df.copy()\n",
    "    df['entrezID'] = df['GeneID'].map(entrez_dict)\n",
    "\n",
    "    return df\n",
    "\n",
    "biomart_df = add_entrez_column_biomart(lung_expr)\n",
    "print(len(set(biomart_df.entrezID)), \" ids mapped\")\n",
    "biomart_df.sample(5)"
   ]
  },
  {
   "cell_type": "markdown",
   "metadata": {},
   "source": [
    "The example below uses [`BridgeDB`](https://webservice.bridgedb.org):"
   ]
  },
  {
   "cell_type": "code",
   "execution_count": null,
   "metadata": {},
   "outputs": [],
   "source": [
    "def add_entrez_column_bridgedb(df, chunk_size = 300):\n",
    "    ids = set(df[\"GeneID\"].tolist())\n",
    "    entrez_ids = {}\n",
    "\n",
    "    for i in range(0, len(ids), chunk_size):\n",
    "        chunk = list(ids)[i : i + chunk_size]\n",
    "        response = requests.post(\n",
    "            \"https://webservice.bridgedb.org/Human/xrefsBatch/En\",\n",
    "            headers={\"Content-Type\": \"text/plain\", \"accept\": \"application/json\"},\n",
    "            data=\"\\n\".join(chunk),\n",
    "        )\n",
    "        if response.status_code == 200:\n",
    "            print(f\"{i // chunk_size + 1} chunks sent\", end=\"\\r\", flush=True)\n",
    "            res = response.json()\n",
    "            chunk_entrez_ids = {\n",
    "                ensembl: item.split(\"L:\")[1]\n",
    "                for ensembl in res\n",
    "                for item in res[ensembl][\"result set\"]\n",
    "                if \"L:\" in item\n",
    "            }\n",
    "\n",
    "            entrez_ids.update(chunk_entrez_ids)\n",
    "        else:\n",
    "            print(\n",
    "                response.status_code,\n",
    "                \" - request unsuccessful for chunk starting at index \",\n",
    "                i,\n",
    "                end=\"\\r\",\n",
    "            )\n",
    "\n",
    "    df[\"entrezID\"] = df[\"GeneID\"].map(entrez_ids)\n",
    "    return df\n",
    "\n",
    "bdb_df = add_entrez_column_bridgedb(lung_expr)\n",
    "print(len(set(bdb_df.entrezID)), \" ids mapped\", flush=True)\n",
    "bdb_df.sample(5)"
   ]
  },
  {
   "cell_type": "markdown",
   "metadata": {},
   "source": [
    "Which mappings database gave us better coverage?"
   ]
  },
  {
   "cell_type": "code",
   "execution_count": null,
   "metadata": {},
   "outputs": [],
   "source": [
    "biomart_len = len(set(biomart_df.entrezID))\n",
    "bdb_len = len(set(bdb_df.entrezID))\n",
    "print(f\"Biomart: {biomart_len}\\nBridgeDb: {bdb_len}\")"
   ]
  },
  {
   "cell_type": "code",
   "execution_count": 26,
   "metadata": {},
   "outputs": [],
   "source": [
    "if biomart_len > bdb_len:\n",
    "    lung_expr = biomart_df\n",
    "else:\n",
    "    lung_expr = bdb_df"
   ]
  },
  {
   "cell_type": "markdown",
   "metadata": {},
   "source": [
    "Conversions weren't complete. What's our coverage?"
   ]
  },
  {
   "cell_type": "markdown",
   "metadata": {},
   "source": [
    "> **Notice the unmapped genes will be left out of the analyses!**"
   ]
  },
  {
   "cell_type": "code",
   "execution_count": null,
   "metadata": {},
   "outputs": [],
   "source": [
    "print(\n",
    "    round((len(set(lung_expr.GeneID)) - len(set(lung_expr.entrezID))) / \n",
    "          len(set(lung_expr.GeneID)) * 100),\n",
    "    \"%\")"
   ]
  },
  {
   "cell_type": "markdown",
   "metadata": {},
   "source": [
    "## 3. Enrichment\n",
    "### 3.1. Gene Ontology Enrichment\n",
    "\n",
    "Let's start with Gene Ontology. We'll go with `GO_Biological_Process_2023` for an up-to-date enrichment in biological processes the gene sets are involved in.\n",
    "\n"
   ]
  },
  {
   "cell_type": "markdown",
   "metadata": {},
   "source": [
    "For **downregulated** genes:"
   ]
  },
  {
   "cell_type": "code",
   "execution_count": null,
   "metadata": {},
   "outputs": [],
   "source": [
    "dr = gp.enrichr(\n",
    "    gene_list=lung_expr[lung_expr.de == \"downregulated\"].GeneName,\n",
    "    background=lung_expr.GeneName,\n",
    "    gene_sets=\"GO_Biological_Process_2023\",\n",
    "    organism=\"human\",\n",
    "    outdir=\"enrichr_results\",\n",
    "    no_plot=True,\n",
    "    verbose=True,\n",
    "    cutoff=P_CUTOFF,\n",
    ").res2d\n",
    "# Add gene count\n",
    "dr[\"gene_count\"] = [len(row.Genes.split(\";\")) for _, row in dr.iterrows()]\n",
    "# Arbitrary adj.P-Val cutoff\n",
    "dr = dr[dr[\"Adjusted P-value\"] < P_CUTOFF]\n",
    "# View results\n",
    "dr"
   ]
  },
  {
   "cell_type": "markdown",
   "metadata": {},
   "source": [
    "For **upregulated** genes:"
   ]
  },
  {
   "cell_type": "code",
   "execution_count": null,
   "metadata": {},
   "outputs": [],
   "source": [
    "ur = gp.enrichr(\n",
    "    gene_list=lung_expr[lung_expr.de == \"upregulated\"].GeneName,\n",
    "    background=lung_expr.GeneName,\n",
    "    gene_sets=\"GO_Biological_Process_2023\",\n",
    "    organism=\"human\",\n",
    "    outdir=\"enrichr_results\",\n",
    "    no_plot=True,\n",
    "    verbose=True,\n",
    "    cutoff=0.05,\n",
    ").res2d\n",
    "# Add gene count\n",
    "ur[\"gene_count\"] = [len(row.Genes.split(\";\")) for _, row in ur.iterrows()]\n",
    "# Arbitrary adj.P-Val cutoff\n",
    "ur = ur[ur['Adjusted P-value'] < P_CUTOFF]\n",
    "# View results\n",
    "ur"
   ]
  },
  {
   "cell_type": "code",
   "execution_count": null,
   "metadata": {},
   "outputs": [],
   "source": [
    "ur.describe()"
   ]
  },
  {
   "cell_type": "code",
   "execution_count": null,
   "metadata": {},
   "outputs": [],
   "source": [
    "dr.describe()"
   ]
  },
  {
   "cell_type": "markdown",
   "metadata": {},
   "source": [
    "#### Visualizing GO enrichment results"
   ]
  },
  {
   "cell_type": "code",
   "execution_count": 18,
   "metadata": {},
   "outputs": [],
   "source": [
    "def plot_enrichment(df, number, type, geneset=\"GO\"):\n",
    "    top = (\n",
    "        df\n",
    "            .sort_values(by=\"Adjusted P-value\", ascending=True)\n",
    "            .head(number)\n",
    "            .sort_values(by=\"gene_count\", ascending=False)\n",
    "    )\n",
    "\n",
    "    # Plot the top 100 terms\n",
    "    plt.figure(figsize=(10, 20))\n",
    "    plt.barh(top['Term'], top['gene_count'], color='skyblue')\n",
    "    plt.xlabel('Gene Count')\n",
    "    plt.ylabel('GO Terms')\n",
    "    plt.title(f\"Top {number} {geneset} Terms by Gene Count, type = {type}, Adj. P-Value < {P_CUTOFF}\")\n",
    "    plt.gca().invert_yaxis()\n",
    "    plt.show()\n",
    "    return plt"
   ]
  },
  {
   "cell_type": "code",
   "execution_count": null,
   "metadata": {},
   "outputs": [],
   "source": [
    "plot_enrichment(ur, 100, \"upregulated\")"
   ]
  },
  {
   "cell_type": "code",
   "execution_count": null,
   "metadata": {},
   "outputs": [],
   "source": [
    "plot_enrichment(dr, 100, \"downregulated\")"
   ]
  },
  {
   "cell_type": "markdown",
   "metadata": {},
   "source": [
    "Overlap?"
   ]
  },
  {
   "cell_type": "code",
   "execution_count": null,
   "metadata": {},
   "outputs": [],
   "source": [
    "overlaps = [\n",
    "    [\n",
    "        rowi.Term,\n",
    "        len(list(set(rowi.Genes.split(\";\") + rowj.Genes.split(\";\")))),\n",
    "        #list(set(rowi.Genes.split(\";\") + rowj.Genes.split(\";\"))),\n",
    "        len(list(set(rowi.Genes.split(\";\")))),\n",
    "        len(list(set(rowj.Genes.split(\";\") ))),\n",
    "        \n",
    "    ]\n",
    "    for _, rowi in ur.iterrows()\n",
    "    for _, rowj in dr.iterrows()\n",
    "    if rowi.Term == rowj.Term\n",
    "]\n",
    "ol_df = pd.DataFrame(\n",
    "    overlaps, columns=[\"term\", \"genecount\", \"genes_up\", \"genes_down\"]\n",
    ").sort_values(by=\"genecount\", ascending=False)\n",
    "ol_df.describe()"
   ]
  },
  {
   "cell_type": "code",
   "execution_count": null,
   "metadata": {},
   "outputs": [],
   "source": [
    "total = len(set(dr.Term)) + len(set(ur.Term))\n",
    "print(\n",
    "    f\"{len(ol_df)}/{total} OVERLAPPING GO BIOLOGICAL PROCESS TERMS BETWEEN UPREGULATED AND DOWNREGULATED SETS ({round(len(ol_df)/total*100, 2)}%)\"\n",
    ")\n",
    "ol_df"
   ]
  },
  {
   "cell_type": "markdown",
   "metadata": {},
   "source": [
    "Repeat analysis without overlapping"
   ]
  },
  {
   "cell_type": "code",
   "execution_count": null,
   "metadata": {},
   "outputs": [],
   "source": [
    "dr_clean = dr[dr[\"Term\"].isin(ol_df.term.to_list())]\n",
    "ur_clean = ur[ur[\"Term\"].isin(ol_df.term.to_list())]\n",
    "dr_clean.describe()"
   ]
  },
  {
   "cell_type": "code",
   "execution_count": null,
   "metadata": {},
   "outputs": [],
   "source": [
    "ur_clean.describe()"
   ]
  },
  {
   "cell_type": "code",
   "execution_count": null,
   "metadata": {},
   "outputs": [],
   "source": [
    "plot_enrichment(ur[ur.Term.isin(list(ol_df.term))], 100, \"upregulated, overlapping\")"
   ]
  },
  {
   "cell_type": "code",
   "execution_count": null,
   "metadata": {},
   "outputs": [],
   "source": [
    "plot_enrichment(dr[dr.Term.isin(list(ol_df.term))], 100, \"downregulated, overlapping\")"
   ]
  },
  {
   "cell_type": "markdown",
   "metadata": {},
   "source": [
    "### 3.2 WikiPathways Enrichment \n",
    "That's all well and fine, but we are here for *Pathway Analysis!*  Everything up to this point is basic GO analysis. Building on top of this foundation, let's see what WikiPathways can add. The `gseapy` package includes built-in support for WikiPathways gene sets (see https://maayanlab.cloud/Enrichr/#libraries).\n",
    "\n",
    "Thus, for downregulated genes:"
   ]
  },
  {
   "cell_type": "code",
   "execution_count": null,
   "metadata": {},
   "outputs": [],
   "source": [
    "ewp_dr = gp.enrichr(\n",
    "    gene_list=lung_expr[lung_expr.de == \"downregulated\"].GeneName,\n",
    "    background=lung_expr.GeneName,\n",
    "    gene_sets=\"WikiPathways_2024_Human\",\n",
    "    organism=\"human\",\n",
    "    outdir=\"enrichr_results\",\n",
    "    no_plot=True,\n",
    "    verbose=True,\n",
    "    cutoff=0.05,).res2d\n",
    "# View the results\n",
    "ewp_dr.head()"
   ]
  },
  {
   "cell_type": "code",
   "execution_count": null,
   "metadata": {},
   "outputs": [],
   "source": [
    "ewp_dr[\"gene_count\"] = [len(row.Genes.split(\";\")) for _, row in ewp_dr.iterrows()]\n",
    "# Arbitrary adj.P-Val cutoff\n",
    "ewp_dr = ewp_dr[ewp_dr[\"Adjusted P-value\"] < P_CUTOFF]\n",
    "# View results\n",
    "ewp_dr.head()"
   ]
  },
  {
   "cell_type": "markdown",
   "metadata": {},
   "source": [
    "And upregulated:"
   ]
  },
  {
   "cell_type": "code",
   "execution_count": null,
   "metadata": {},
   "outputs": [],
   "source": [
    "ewp_ur = gp.enrichr(\n",
    "    gene_list=lung_expr[lung_expr.de == \"upregulated\"].GeneName,\n",
    "    background=lung_expr.GeneName,\n",
    "    gene_sets=\"WikiPathways_2024_Human\",\n",
    "    organism=\"human\",\n",
    "    outdir=\"enrichr_results\",\n",
    "    no_plot=True,\n",
    "    verbose=True,\n",
    "    cutoff=0.05,\n",
    ").res2d\n",
    "# View the results\n",
    "ewp_ur.head()"
   ]
  },
  {
   "cell_type": "code",
   "execution_count": null,
   "metadata": {},
   "outputs": [],
   "source": [
    "ewp_ur[\"gene_count\"] = [len(row.Genes.split(\";\")) for _, row in ewp_ur.iterrows()]\n",
    "# Arbitrary adj.P-Val cutoff\n",
    "ewp_ur = ewp_dr[ewp_dr[\"Adjusted P-value\"] < P_CUTOFF]\n",
    "# View results\n",
    "ewp_ur.head()"
   ]
  },
  {
   "cell_type": "code",
   "execution_count": null,
   "metadata": {},
   "outputs": [],
   "source": [
    "plot_enrichment(ewp_dr, 100, \"downregulated\", \"WikiPathways\")"
   ]
  },
  {
   "cell_type": "code",
   "execution_count": null,
   "metadata": {},
   "outputs": [],
   "source": [
    "plot_enrichment(ewp_ur, 100, \"upregulated\", \"WikiPathways\")"
   ]
  },
  {
   "cell_type": "markdown",
   "metadata": {},
   "source": [
    "plot_enrichment(ewp_ur, 100, \"upregulated\", \"WikiPathways\")"
   ]
  },
  {
   "cell_type": "markdown",
   "metadata": {},
   "source": [
    "You can retrieve the WP ids from the `Term` column:"
   ]
  },
  {
   "cell_type": "code",
   "execution_count": null,
   "metadata": {},
   "outputs": [],
   "source": [
    "def add_wpid_col(df):\n",
    "    wpid = ['WP'+row.Term.split(\"WP\")[1] for _, row in df.iterrows()]\n",
    "    df['wpid'] = wpid\n",
    "    return df\n",
    "\n",
    "ewp_ur, ewp_dr = add_wpid_col(ewp_ur), add_wpid_col(ewp_ur)\n",
    "ewp_ur.sample(4)"
   ]
  },
  {
   "cell_type": "markdown",
   "metadata": {},
   "source": [
    "#### Explore\n",
    "Turning again to the **pyWikiPathways** package, let's explore the content and some of our pathway hits so far. Since we are studying Lung Cancer here, let's start with a search for relevant pathways..."
   ]
  },
  {
   "cell_type": "code",
   "execution_count": null,
   "metadata": {},
   "outputs": [],
   "source": [
    "lc_pathways = pwpw.find_pathways_by_text(\"lung cancer\")\n",
    "lc_pathways = lc_pathways[lc_pathways.species == \"Homo sapiens\"]\n",
    "lc_pathways\n",
    "# Differences with R workflows: find_pathway_names_by_text method DOES NOT ALLOW to filter by species like the R version findPathwayNamesByText, need to use find_pathways_by_text instead"
   ]
  },
  {
   "cell_type": "markdown",
   "metadata": {},
   "source": [
    "Ok, so there are just a few human pathways that explicitly mention \"lung cancer\" in their titles or descriptions. How many of these were in our top hits for enrichment?"
   ]
  },
  {
   "cell_type": "code",
   "execution_count": null,
   "metadata": {},
   "outputs": [],
   "source": [
    "enrichment_ids = pd.concat([ewp_dr, ewp_ur]).wpid\n",
    "common = [\n",
    "    enrichment_id\n",
    "    for i, enrichment_id in enumerate(enrichment_ids)\n",
    "    if enrichment_id in lc_pathways.id.values\n",
    "]\n",
    "print(len(indices), \" pathways:\\n-\", \"\\n- https://wikipathways.org/pathways/\".join(common))"
   ]
  },
  {
   "cell_type": "markdown",
   "metadata": {},
   "source": [
    "#### Exploring pathways and importing them into Cytoscape with RCy3"
   ]
  },
  {
   "cell_type": "code",
   "execution_count": null,
   "metadata": {},
   "outputs": [],
   "source": [
    "url = pwpw.get_pathway_info(\"WP179\")\n",
    "print(url['url'])"
   ]
  },
  {
   "cell_type": "code",
   "execution_count": null,
   "metadata": {},
   "outputs": [],
   "source": [
    "cmd_list = [\"wikipathways\", \"import-as-pathway\", \"id=WP179\"]\n",
    "cmd = \" \".join(cmd_list)\n",
    "p4c.commands.commands_get(cmd)\n",
    "p4c.notebook_export_show_image()\n"
   ]
  },
  {
   "cell_type": "markdown",
   "metadata": {},
   "source": [
    "### Mapping gene expression data onto pathways in Cytoscape"
   ]
  },
  {
   "cell_type": "code",
   "execution_count": null,
   "metadata": {},
   "outputs": [],
   "source": [
    "p4c.load_table_data(lung_expr, data_key_column=\"GeneID\", table_key_column=\"Ensembl\")"
   ]
  },
  {
   "cell_type": "markdown",
   "metadata": {},
   "source": [
    "### Setting visual styles in Cytoscape\n",
    "Now we can define visual styles to visualize our data on this pathway. First, let's set the node fill color to display the log2 fold change data. "
   ]
  },
  {
   "cell_type": "code",
   "execution_count": null,
   "metadata": {},
   "outputs": [],
   "source": [
    "p4c.set_node_color_mapping(\"log2FC\", [-1, 0, 1], [\"#67001f\", \"#ffffff\",\"#053061\"], style_name=\"WikiPathways\")\n",
    "# TODO report difference (R--> \"WikiPathways\"; Python: \"WikiPathways-As-Network\"\")\n",
    "p4c.notebook_export_show_image()"
   ]
  },
  {
   "cell_type": "markdown",
   "metadata": {},
   "source": [
    "You can similarly map P-values to border color, etc. There are dozens and dozens of visual properties on nodes and edges available for data visualization!\n",
    "\n",
    "The power of scripting is in doing something multiple times though... So, let's now apply this same data and visual style to the first 5 pathways we are interested in. In just two lines of code...\n",
    "\n"
   ]
  },
  {
   "cell_type": "code",
   "execution_count": null,
   "metadata": {},
   "outputs": [],
   "source": [
    "for pathway_id in lc_pathways.id[:5]:\n",
    "    cmd = f\"wikipathways import-as-pathway id={pathway_id}\"\n",
    "    p4c.commands.commands_get(cmd)\n",
    "    p4c.load_table_data(lung_expr.copy(), data_key_column=\"GeneID\", table_key_column=\"Ensembl\")\n",
    "    p4c.toggle_graphics_details()"
   ]
  },
  {
   "cell_type": "markdown",
   "metadata": {},
   "source": [
    "### Extend\n",
    "Now that our pathways are loaded into Cytoscape, this opens up a ton of potential analysis and visualizations options! Check out the [Cytoscape manual](http://manual.cytoscape.org) and [App Store](http://apps.cytoscape.org/), for starters. You might also browse the [Cytoscape tutorials](http://tutorials.cytoscape.org/) and [RCy3 vignettes](https://bioconductor.org/packages/release/bioc/vignettes/RCy3/inst/doc/Overview-of-RCy3.html) (for R) if you want hands-on examples.\n",
    "\n",
    "In this notebook, we will use the *CyTargetLinker* app for Cytoscape to extend a network representation of our pathway with drug-target interactions.\n",
    "\n",
    "First, let's reimport our pathway *as a network* using this slightly modified command:"
   ]
  },
  {
   "cell_type": "code",
   "execution_count": null,
   "metadata": {},
   "outputs": [],
   "source": [
    "p4c.commands.commands_get('wikipathways import-as-network id=WP179')\n",
    "p4c.load_table_data(lung_expr, data_key_column=\"GeneID\", table_key_column=\"Ensembl\")\n",
    "p4c.set_node_color_mapping(\"log2FC\", [-1, 0, 1], [\"#67001f\", \"#ffffff\", \"#053061\"], style_name=\"WikiPathways-As-Network\")\n",
    "p4c.notebook_export_show_image()"
   ]
  },
  {
   "cell_type": "markdown",
   "metadata": {},
   "source": [
    "See the difference?  Same data, same pathway source, but different representation. The network view of pathways is useful when you want to add more nodes, traverse paths, perform automatic layouts, etc.\n",
    "\n",
    "Next, we need to load the latest drug-target database. The databases supported by **CyTargetLinker** are called *linksets* and can be downloaded from the [CyTargetLinker website](https://projects.bigcat.unimaas.nl/cytargetlinker/linksets/). We have provided an example **drugbank** linkset for this vignette, so you don't have to download anything."
   ]
  },
  {
   "cell_type": "code",
   "execution_count": null,
   "metadata": {},
   "outputs": [],
   "source": [
    "unzip(\n",
    "    system.file(\"extdata\", \"drugbank-5.1.0.xgmml.zip\", package=\"rWikiPathways\"),\n",
    "    exdir=getwd(),\n",
    ")\n",
    "drugbank < -file.path(getwd(), \"drugbank-5.1.0.xgmml\")"
   ]
  },
  {
   "cell_type": "markdown",
   "metadata": {},
   "source": [
    "Now that we have our *drugbank* linkset  loaded, we can run CyTargetLinker as a command:\n"
   ]
  },
  {
   "cell_type": "code",
   "execution_count": null,
   "metadata": {},
   "outputs": [],
   "source": [
    "commandsRun(\n",
    "    paste0('cytargetlinker extend idAttribute=\"Ensembl\" linkSetFiles=\"', drugbank, '\"')\n",
    ")\n",
    "commandsRun('cytargetlinker applyLayout network=\"current\"')"
   ]
  },
  {
   "cell_type": "markdown",
   "metadata": {},
   "source": [
    "This returns information about what was added. And in Cytoscape, you now have a copy of your original network, but now with additional nodes and edges. Check it out...\n",
    "\n",
    "...Hmm, they are kind of plain and hard to see. Let's use Cytoscape visualization styles to fix that!"
   ]
  },
  {
   "cell_type": "code",
   "execution_count": null,
   "metadata": {},
   "outputs": [],
   "source": [
    "my.drugs <- selectNodes(\"drug\", by.col = \"CTL.Type\", preserve = FALSE)$nodes #easy way to collect node SUIDs by column value\n",
    "clearSelection()\n",
    "setNodeColorBypass(my.drugs, \"#DD99FF\")\n",
    "setNodeShapeBypass(my.drugs, \"hexagon\")\n",
    "\n",
    "drug.labels <- getTableColumns(columns=c(\"SUID\",\"CTL.label\"))\n",
    "drug.labels <- na.omit(drug.labels)\n",
    "mapply(function(x,y) setNodeLabelBypass(x,y), drug.labels$SUID, drug.labels$CTL.label)"
   ]
  }
 ],
 "metadata": {
  "kernelspec": {
   "display_name": "Python 3",
   "language": "python",
   "name": "python3"
  },
  "language_info": {
   "codemirror_mode": {
    "name": "ipython",
    "version": 3
   },
   "file_extension": ".py",
   "mimetype": "text/x-python",
   "name": "python",
   "nbconvert_exporter": "python",
   "pygments_lexer": "ipython3",
   "version": "3.10.12"
  }
 },
 "nbformat": 4,
 "nbformat_minor": 2
}
